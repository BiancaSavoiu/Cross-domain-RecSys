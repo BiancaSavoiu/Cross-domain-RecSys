{
  "nbformat": 4,
  "nbformat_minor": 0,
  "metadata": {
    "colab": {
      "provenance": [],
      "authorship_tag": "ABX9TyN0B+L6UO6trpaPaOTkYLNI"
    },
    "kernelspec": {
      "name": "python3",
      "display_name": "Python 3"
    },
    "language_info": {
      "name": "python"
    }
  },
  "cells": [
    {
      "cell_type": "markdown",
      "source": [
        "# Setup"
      ],
      "metadata": {
        "id": "AbeSX_jmsl0V"
      }
    },
    {
      "cell_type": "code",
      "execution_count": 6,
      "metadata": {
        "id": "I59nv2d_42vu"
      },
      "outputs": [],
      "source": [
        "%%capture\n",
        "!pip install gradio openai==0.28\n",
        "!pip install python-dotenv"
      ]
    },
    {
      "cell_type": "code",
      "source": [
        "import gradio as gr\n",
        "import json\n",
        "import openai\n",
        "import warnings\n",
        "\n",
        "warnings.filterwarnings(\"ignore\")"
      ],
      "metadata": {
        "id": "5qmPKKoAXOAe"
      },
      "execution_count": 5,
      "outputs": []
    },
    {
      "cell_type": "markdown",
      "source": [
        "# Import drive"
      ],
      "metadata": {
        "id": "Iz1lXF0d82BS"
      }
    },
    {
      "cell_type": "code",
      "source": [
        "from google.colab import drive\n",
        "drive.mount('/content/drive')\n",
        "\n",
        "# Load the .env file from Google Drive\n",
        "import os\n",
        "from dotenv import load_dotenv\n",
        "load_dotenv(os.path.join('/content/drive/MyDrive', '.env'))\n",
        "\n",
        "open_ai_key = os.getenv('OPEN_AI_KEY')\n",
        "tmdbs_api_key = os.getenv('TMDB_API_KEY')\n",
        "tmdbs_auth_token = os.getenv('TMDB_AUTH_TOKEN')\n",
        "\n",
        "openai.api_key = open_ai_key"
      ],
      "metadata": {
        "colab": {
          "base_uri": "https://localhost:8080/"
        },
        "id": "K6QJuVPU84Jd",
        "outputId": "f85914ad-2885-4e00-b36d-b521d6913c61"
      },
      "execution_count": 7,
      "outputs": [
        {
          "output_type": "stream",
          "name": "stdout",
          "text": [
            "Drive already mounted at /content/drive; to attempt to forcibly remount, call drive.mount(\"/content/drive\", force_remount=True).\n"
          ]
        }
      ]
    },
    {
      "cell_type": "markdown",
      "source": [
        "# Baseline"
      ],
      "metadata": {
        "id": "RkLxNOznsnyO"
      }
    },
    {
      "cell_type": "code",
      "source": [
        "# Function to process user input and selected categories\n",
        "def process_input(prompt, music, books, tv_shows, movies):\n",
        "    # Collect selected categories\n",
        "    selected_categories = []\n",
        "    if music:\n",
        "        selected_categories.append(\"Music\")\n",
        "    if books:\n",
        "        selected_categories.append(\"Books\")\n",
        "    if tv_shows:\n",
        "        selected_categories.append(\"TV Shows\")\n",
        "    if movies:\n",
        "        selected_categories.append(\"Movies\")\n",
        "\n",
        "    # Prepare the JSON response\n",
        "    result = {\n",
        "        \"prompt\": prompt,\n",
        "        \"categories\": selected_categories\n",
        "    }\n",
        "    return result\n",
        "\n",
        "# Function to call GPT API using the JSON output\n",
        "def call_gpt_api(prompt_data):\n",
        "    # Construct the instruction prompt for GPT\n",
        "    instruction_prompt = (\n",
        "        f\"You are an entertainment recommendation assistant. \"\n",
        "        f\"Based on the following user input and selected categories, generate recommendations:\\n\\n\"\n",
        "        f\"Prompt: {prompt_data['prompt']}\\n\"\n",
        "        f\"Categories: {', '.join(prompt_data['categories'])}\\n\"\n",
        "    )\n",
        "\n",
        "    # Call OpenAI's GPT model\n",
        "    try:\n",
        "        response = openai.ChatCompletion.create(\n",
        "            model=\"gpt-4\",  # You can use \"gpt-3.5-turbo\" or \"gpt-4\"\n",
        "            messages=[{\"role\": \"user\", \"content\": instruction_prompt}],\n",
        "            max_tokens=200\n",
        "        )\n",
        "        # Extract the response text\n",
        "        gpt_reply = response['choices'][0]['message']['content']\n",
        "        return gpt_reply\n",
        "    except Exception as e:\n",
        "        return f\"Error calling GPT API: {str(e)}\"\n",
        "\n",
        "# Define the interface elements\n",
        "with gr.Blocks() as interface:\n",
        "    gr.Markdown(\"### Entertainment Recommendation Input\")\n",
        "    prompt_textbox = gr.Textbox(label=\"Enter your prompt:\", lines=4, placeholder=\"Type your recommendation query here...\")\n",
        "    with gr.Row():\n",
        "        music = gr.Checkbox(label=\"Music\")\n",
        "        books = gr.Checkbox(label=\"Books\")\n",
        "        tv_shows = gr.Checkbox(label=\"TV Shows\")\n",
        "        movies = gr.Checkbox(label=\"Movies\")\n",
        "    gpt_output = gr.Textbox(label=\"GPT Recommendations\", lines=6, interactive=False)\n",
        "    submit_button = gr.Button(\"Submit\")\n",
        "\n",
        "    # Define interactions\n",
        "    def process_and_generate(prompt, music, books, tv_shows, movies):\n",
        "        # Generate JSON output internally\n",
        "        prompt_data = process_input(prompt, music, books, tv_shows, movies)\n",
        "        # Call GPT API with the generated JSON\n",
        "        gpt_reply = call_gpt_api(prompt_data)\n",
        "        return gpt_reply\n",
        "\n",
        "    submit_button.click(\n",
        "        process_and_generate,\n",
        "        inputs=[prompt_textbox, music, books, tv_shows, movies],\n",
        "        outputs=[gpt_output]\n",
        "    )\n",
        "\n",
        "# Launch the Gradio interface\n",
        "interface.launch()"
      ],
      "metadata": {
        "colab": {
          "base_uri": "https://localhost:8080/",
          "height": 646
        },
        "id": "Xu9He5R3W675",
        "outputId": "a6160008-f680-4f76-93ec-d717a2feb19c"
      },
      "execution_count": null,
      "outputs": [
        {
          "output_type": "stream",
          "name": "stdout",
          "text": [
            "Running Gradio in a Colab notebook requires sharing enabled. Automatically setting `share=True` (you can turn this off by setting `share=False` in `launch()` explicitly).\n",
            "\n",
            "Colab notebook detected. To show errors in colab notebook, set debug=True in launch()\n",
            "* Running on public URL: https://0d2bbe4a560bb1be7f.gradio.live\n",
            "\n",
            "This share link expires in 72 hours. For free permanent hosting and GPU upgrades, run `gradio deploy` from the terminal in the working directory to deploy to Hugging Face Spaces (https://huggingface.co/spaces)\n"
          ]
        },
        {
          "output_type": "display_data",
          "data": {
            "text/plain": [
              "<IPython.core.display.HTML object>"
            ],
            "text/html": [
              "<div><iframe src=\"https://0d2bbe4a560bb1be7f.gradio.live\" width=\"100%\" height=\"500\" allow=\"autoplay; camera; microphone; clipboard-read; clipboard-write;\" frameborder=\"0\" allowfullscreen></iframe></div>"
            ]
          },
          "metadata": {}
        },
        {
          "output_type": "execute_result",
          "data": {
            "text/plain": []
          },
          "metadata": {},
          "execution_count": 3
        }
      ]
    },
    {
      "cell_type": "markdown",
      "source": [
        "# Demo on a Movie and cross domain recommendations"
      ],
      "metadata": {
        "id": "aOZiz4iJpn8g"
      }
    },
    {
      "cell_type": "code",
      "source": [
        "import requests\n",
        "key = tmdbs_api_key\n",
        "url = \"https://api.themoviedb.org/3/authentication\"\n",
        "\n",
        "headers = {\n",
        "    \"accept\": \"application/json\",\n",
        "    \"Authorization\": tmdbs_auth_token\n",
        "}\n",
        "\n",
        "print(\"Let's check the access credentials to TheMovieDb...\", end=' ')\n",
        "response = requests.get(url, headers=headers)\n",
        "print(\"Done\")\n",
        "\n",
        "print(response.text)\n"
      ],
      "metadata": {
        "colab": {
          "base_uri": "https://localhost:8080/"
        },
        "id": "K6uXko6yZfYY",
        "outputId": "cc5043f4-e0a4-4c46-ca6c-db90e0d00f4b"
      },
      "execution_count": null,
      "outputs": [
        {
          "output_type": "stream",
          "name": "stdout",
          "text": [
            "Let's check the access credentials to TheMovieDb... Done\n",
            "{\"success\":true,\"status_code\":1,\"status_message\":\"Success.\"}\n"
          ]
        }
      ]
    },
    {
      "cell_type": "code",
      "source": [
        "import os\n",
        "import time\n",
        "\n",
        "def download_data_by_movie_title(movie_name):\n",
        "    all_data = []\n",
        "\n",
        "    url = f'https://api.themoviedb.org/3/search/movie?query={movie_name}&api_key={key}&include_adult=false&language=en-US&page=1'\n",
        "    response = requests.get(url, headers)\n",
        "\n",
        "    if response.status_code == 200:\n",
        "        all_data.append(response.json())\n",
        "        print(f'Got: {movie_name}')\n",
        "    else:\n",
        "        print(f'Error: {response.status_code}')\n",
        "\n",
        "    return all_data[0]['results'][0]"
      ],
      "metadata": {
        "id": "MBLMzjTbbY2K"
      },
      "execution_count": null,
      "outputs": []
    },
    {
      "cell_type": "code",
      "source": [
        "movie = download_data_by_movie_title('Interstellar')\n",
        "genres = movie['genre_ids']\n",
        "overview = movie['overview']\n",
        "title = movie['title']"
      ],
      "metadata": {
        "colab": {
          "base_uri": "https://localhost:8080/"
        },
        "id": "xXgwykU1bhsy",
        "outputId": "967b63a2-7cd9-49df-b65f-a13fa7a04c47"
      },
      "execution_count": null,
      "outputs": [
        {
          "output_type": "stream",
          "name": "stdout",
          "text": [
            "Got: Interstellar\n"
          ]
        }
      ]
    },
    {
      "cell_type": "code",
      "source": [
        "import pandas as pd\n",
        "\n",
        "url = \"https://api.themoviedb.org/3/genre/movie/list?language=en\"\n",
        "\n",
        "response = requests.get(url, headers=headers)\n",
        "genres_idx = pd.DataFrame(response.json()['genres'])"
      ],
      "metadata": {
        "id": "Dqqzyvpkhr_3"
      },
      "execution_count": null,
      "outputs": []
    },
    {
      "cell_type": "code",
      "source": [
        "genres_idx[genres_idx['id'] == 28]['name'].values[0]"
      ],
      "metadata": {
        "colab": {
          "base_uri": "https://localhost:8080/",
          "height": 36
        },
        "id": "PCuH253CiLmu",
        "outputId": "92ba2dc1-465a-4677-dc4f-fab690b95293"
      },
      "execution_count": null,
      "outputs": [
        {
          "output_type": "execute_result",
          "data": {
            "text/plain": [
              "'Action'"
            ],
            "application/vnd.google.colaboratory.intrinsic+json": {
              "type": "string"
            }
          },
          "metadata": {},
          "execution_count": 8
        }
      ]
    },
    {
      "cell_type": "code",
      "source": [
        "genres = [genres_idx[genres_idx['id'] == genre]['name'].values[0] for genre in genres]\n",
        "genres"
      ],
      "metadata": {
        "colab": {
          "base_uri": "https://localhost:8080/"
        },
        "id": "fSw1aLGZi2fc",
        "outputId": "5cc33909-730c-4048-f18c-717a902710cc"
      },
      "execution_count": null,
      "outputs": [
        {
          "output_type": "execute_result",
          "data": {
            "text/plain": [
              "['Adventure', 'Drama', 'Science Fiction']"
            ]
          },
          "metadata": {},
          "execution_count": 9
        }
      ]
    },
    {
      "cell_type": "code",
      "source": [
        "def get_movie_features(movie_name):\n",
        "    movie = download_data_by_movie_title(movie_name)\n",
        "    if not movie:\n",
        "        return \"Movie not found.\"\n",
        "\n",
        "    genres = movie['genre_ids']\n",
        "    overview = movie['overview']\n",
        "    title = movie['title']\n",
        "    genres = [genres_idx[genres_idx['id'] == genre]['name'].values[0] for genre in genres]\n",
        "\n",
        "    return {'title': title, 'overview': overview, 'genres': genres}"
      ],
      "metadata": {
        "id": "yjvMLCerj4Rg"
      },
      "execution_count": null,
      "outputs": []
    },
    {
      "cell_type": "code",
      "source": [
        "# Function to call GPT API\n",
        "def generate_recommendations(movie_name, recommend_movies, recommend_music, recommend_tv_shows, recommend_books):\n",
        "    # Get movie features\n",
        "    movie_features = get_movie_features(movie_name)\n",
        "    if isinstance(movie_features, str):  # If an error message is returned\n",
        "        return movie_features\n",
        "\n",
        "    # Construct GPT prompt\n",
        "    gpt_prompt = (\n",
        "        f\"You are an entartainment recommendation assistant. Based on the following movie's features, \"\n",
        "        f\"generate recommendations for the selected categories. Provide a chain of thought for each recommendation. \"\n",
        "    )\n",
        "\n",
        "    # Add movie features to the prompt\n",
        "    gpt_prompt += (\n",
        "        f\"\\n\\nMovie Title: {movie_features['title']}\\n\"\n",
        "        f\"Overview: {movie_features['overview']}\\n\"\n",
        "        f\"Genres: {', '.join(movie_features['genres'])}\\n\"\n",
        "    )\n",
        "\n",
        "    # Specify selected categories\n",
        "    selected_categories = []\n",
        "    if recommend_movies:\n",
        "        selected_categories.append(\"Movies\")\n",
        "    if recommend_music:\n",
        "        selected_categories.append(\"Music\")\n",
        "    if recommend_tv_shows:\n",
        "        selected_categories.append(\"TV Shows\")\n",
        "    if recommend_books:\n",
        "        selected_categories.append(\"Books\")\n",
        "\n",
        "    if not selected_categories:\n",
        "        return \"Please select at least one category for recommendations.\"\n",
        "\n",
        "    gpt_prompt += f\"Recommend content in the following categories: {', '.join(selected_categories)}.\"\n",
        "\n",
        "    # Requesting GPT to explain the reasoning behind each recommendation\n",
        "    gpt_prompt += \"\\n\\nFor each recommendation, provide a brief explanation of why you are suggesting it.\"\n",
        "\n",
        "    if recommend_music:\n",
        "      gpt_prompt += \"\\n Recommend music content, with similar features to the user input. Give music content, such as singers, albums or specific songs.\"\n",
        "    if recommend_tv_shows:\n",
        "      gpt_prompt += \"\\n Recommend TV Shows, with similar features to the user input.\"\n",
        "    if recommend_books:\n",
        "      gpt_prompt += \"\\n Recommend books, with similar features to the user input.\"\n",
        "    if recommend_movies:\n",
        "      gpt_prompt += \"\\n Recommend movies, with similar features to the user input.\"\n",
        "\n",
        "    # Call OpenAI's GPT API\n",
        "    try:\n",
        "        response = openai.ChatCompletion.create(\n",
        "            model=\"gpt-4o\",\n",
        "            messages=[{\"role\": \"user\", \"content\": gpt_prompt}],\n",
        "            max_tokens=1024\n",
        "        )\n",
        "        # Extract the response text\n",
        "        gpt_reply = response['choices'][0]['message']['content']\n",
        "        return gpt_reply\n",
        "    except Exception as e:\n",
        "        return f\"Error calling GPT API: {str(e)}\"\n",
        "\n",
        "# Gradio Interface\n",
        "with gr.Blocks() as interface:\n",
        "    gr.Markdown(\"### Entertainment Recommendation System\")\n",
        "    movie_input = gr.Textbox(label=\"Enter a movie you like:\", placeholder=\"Type a movie name (e.g., The Hobbit)\")\n",
        "    with gr.Row():\n",
        "        recommend_movies = gr.Checkbox(label=\"Movies\")\n",
        "        recommend_music = gr.Checkbox(label=\"Music\")\n",
        "        recommend_tv_shows = gr.Checkbox(label=\"TV Shows\")\n",
        "        recommend_books = gr.Checkbox(label=\"Books\")\n",
        "    #gpt_output = gr.Textbox(label=\"Recommendations\", lines=6, interactive=False)\n",
        "    gpt_output = gr.Markdown()\n",
        "    submit_button = gr.Button(\"Submit\", variant = \"primary\")\n",
        "\n",
        "    # Define interaction\n",
        "    def process_and_generate(movie_name, movies, music, tv_shows, books):\n",
        "        return generate_recommendations(movie_name, movies, music, tv_shows, books)\n",
        "\n",
        "    submit_button.click(\n",
        "        process_and_generate,\n",
        "        inputs=[movie_input, recommend_movies, recommend_music, recommend_tv_shows, recommend_books],\n",
        "        outputs=[gpt_output]\n",
        "    )\n",
        "\n",
        "# Launch the Gradio interface\n",
        "interface.launch()"
      ],
      "metadata": {
        "colab": {
          "base_uri": "https://localhost:8080/",
          "height": 646
        },
        "id": "H80pZlZ7Z3ry",
        "outputId": "5306ff22-301f-473a-87cd-f1e32ea1a167"
      },
      "execution_count": null,
      "outputs": [
        {
          "output_type": "stream",
          "name": "stdout",
          "text": [
            "Running Gradio in a Colab notebook requires sharing enabled. Automatically setting `share=True` (you can turn this off by setting `share=False` in `launch()` explicitly).\n",
            "\n",
            "Colab notebook detected. To show errors in colab notebook, set debug=True in launch()\n",
            "* Running on public URL: https://ab1555bdbf07258ee7.gradio.live\n",
            "\n",
            "This share link expires in 72 hours. For free permanent hosting and GPU upgrades, run `gradio deploy` from the terminal in the working directory to deploy to Hugging Face Spaces (https://huggingface.co/spaces)\n"
          ]
        },
        {
          "output_type": "display_data",
          "data": {
            "text/plain": [
              "<IPython.core.display.HTML object>"
            ],
            "text/html": [
              "<div><iframe src=\"https://ab1555bdbf07258ee7.gradio.live\" width=\"100%\" height=\"500\" allow=\"autoplay; camera; microphone; clipboard-read; clipboard-write;\" frameborder=\"0\" allowfullscreen></iframe></div>"
            ]
          },
          "metadata": {}
        },
        {
          "output_type": "execute_result",
          "data": {
            "text/plain": []
          },
          "metadata": {},
          "execution_count": 15
        }
      ]
    }
  ]
}